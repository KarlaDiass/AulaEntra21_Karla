{
 "cells": [
  {
   "cell_type": "markdown",
   "metadata": {
    "colab_type": "text",
    "id": "twjuWX7eqXo3"
   },
   "source": [
    "<h1><b>For e Listas</h1></b>\n",
    "\n",
    "O uso do for como contador pode ser muito útil para sincronizar várias listas. \n",
    "Supondo que temos listas para armazenar vários dados diferentes de várias pessoas. Se as listas tiverem ordenada, onde o índice 0 de cada lista é o dado de uma pessoa, podemos recuperar os dados dos cadastros facilmente.\n",
    "\n",
    "Para isso usamos o for como um contador e usamos a variável i para sincronizar todas as listas."
   ]
  },
  {
   "cell_type": "code",
   "execution_count": null,
   "metadata": {
    "colab": {},
    "colab_type": "code",
    "id": "v0x3YwUkqVJW"
   },
   "outputs": [],
   "source": [
    "# Faça um programa de cadastro de pessoas que receba 5 nomes, idades e e-mails e\n",
    "# salve cada um em uma lista. Depois mostre os dados dos clientes.\n",
    "\n",
    "################################################################################\n",
    "#                          Captação de dados                                   #\n",
    "################################################################################\n",
    "\n",
    "# iniciando listas vazias para capturar dados dos clientes\n",
    "lista_nomes = [ ]\n",
    "lista_idades = [ ]\n",
    "lista_email = [ ]\n",
    "\n",
    "# Usando o for a nosso favor, para cadastrar novos clientes\n",
    "for i in range(3):\n",
    "    # Entrada dos dados\n",
    "    nome = input(f'Digite o nome {1+i}: ' )\n",
    "    idade = input(f'Digite o idade {1+i}: ' )\n",
    "    email = input(f'Digite o email {1+i}: ' )\n",
    "    # Adicionando os dados nas listas.\n",
    "    lista_nomes.append( nome )\n",
    "    lista_idades.append( idade )\n",
    "    lista_email.append( email )\n",
    "    print('\\n')\n",
    "\n",
    "# Até aqui tudo bem, foi o mais do mesmo!\n",
    "\n",
    "################################################################################\n",
    "#                      Apresentação dos resultados                             #\n",
    "################################################################################\n",
    "\n",
    "# Para sincronizarmos a lista, devemos pegar uma e medir o tamanho dela.\n",
    "# Como eu sei que todas tem o mesmo tamanho, qualquer uma das listas de cadastro\n",
    "# já é o suficiente.\n",
    "\n",
    "tamanho = len( lista_nomes )\n",
    "\n",
    "# Vamos usar o for como contador e colocar a variável tamanho dentro do range()\n",
    "# Assim ela irá fazer o loop na medida certa para pegar-mos todos os dados \n",
    "# cadastrados.\n",
    "for i in range( tamanho ): \n",
    "    # Printamos os resultados.\n",
    "    print( f'''\n",
    "nome: { lista_nomes[ i ] }\n",
    "Idade: { lista_idades[ i ] }\n",
    "E-mail: { lista_email[ i ] } \n",
    "''' )\n"
   ]
  },
  {
   "cell_type": "markdown",
   "metadata": {
    "colab_type": "text",
    "id": "p6XBjb73xE0Z"
   },
   "source": [
    "------\n",
    "\n",
    "<h1><b>Exercícios</h1></b>\n",
    "\n",
    "------\n"
   ]
  },
  {
   "cell_type": "markdown",
   "metadata": {
    "colab_type": "text",
    "id": "1mshML5MxfJd"
   },
   "source": [
    "<b>Exercício 01</b>\n",
    "\n",
    "Crie um programa que cadastre 5 clientes. \n",
    "\n",
    "Cada cliente possui: Nome, sexo, Telefone<br>\n",
    "(Guarde estes dados em listas separadas).\n",
    "\n",
    "Depois mostre os dados cadastrados no seguinte formato:\n",
    "\n",
    "\n",
    "\n",
    "\\*\\*\\*\\*\\*\\*\\*\\*\\*\\*\\*\\*\\*\\*\\*\\*\\*\\*\\*\\*\\*\\*\\*\\*\\*\\*\\*\\*\\*\\*\\*\\*\\*\\*\\*<br>\n",
    "Relatório de clientes cadastrados <br>\n",
    "\\*\\*\\*\\*\\*\\*\\*\\*\\*\\*\\*\\*\\*\\*\\*\\*\\*\\*\\*\\*\\*\\*\\*\\*\\*\\*\\*\\*\\*\\*\\*\\*\\*\\*\\*<br>\n",
    "Nome: <br>\n",
    "Sexo:<br>\n",
    "Telefone:<br>\n",
    "\\*\\*\\*\\*\\*\\*\\*\\*\\*\\*\\*\\*\\*\\*\\*\\*\\*\\*\\*\\*\\*\\*\\*\\*\\*\\*\\*\\*\\*\\*\\*\\*\\*\\*\\*<br>"
   ]
  },
  {
   "cell_type": "code",
   "execution_count": null,
   "metadata": {
    "colab": {},
    "colab_type": "code",
    "id": "RIhGzbpXuhcx"
   },
   "outputs": [],
   "source": []
  },
  {
   "cell_type": "markdown",
   "metadata": {
    "colab_type": "text",
    "id": "FFwDeXKpzhsU"
   },
   "source": [
    "<b>Exercício 02</b>\n",
    "\n",
    "O id de um cliente é um código único (só aquela pessoa tem) composto por números inteiros que inicia do número 1 e vai aumentando de 1 em 1 enquanto for necessário.\n",
    "\n",
    "Exemplo:<br>\n",
    "id: 1<br>\n",
    "Nome: Dudu<br>\n",
    "\n",
    "id: 2<br>\n",
    "Nome: Marta<br>\n",
    "\n",
    "id: 3<br>\n",
    "Nome: Pedro<br>\n",
    "\n",
    "<br>\n",
    "<b>ATENÇÃO!!!!<br>\n",
    "O id é um número atribuido automáticamente! O cliente não escolhe o número. O seu programa deve fazer o cadastro deste id automaticamente.</b><br><br><br>\n",
    "\n",
    "\n",
    "Com isso, crie um cadastro de clientes que receba o id, nome e idade. Depois mostre os dados dos clientes individualmente.\n",
    "(cadastre no minimo 4 clientes)\n"
   ]
  },
  {
   "cell_type": "code",
   "execution_count": null,
   "metadata": {
    "colab": {},
    "colab_type": "code",
    "id": "86K9bujL2HNu"
   },
   "outputs": [],
   "source": []
  },
  {
   "cell_type": "markdown",
   "metadata": {
    "colab_type": "text",
    "id": "CCdnXNz82HlH"
   },
   "source": [
    "<b>Exercício 03</b>\n",
    "\n",
    "3.1) Crie um programa que cadastre o id, nome, sexo e a idade de 5 clientes.\n",
    "\n",
    "3.2) Depois mostre os dados dos 5 clientes.\n",
    "\n",
    "3.3) Peça para que o usuário escolha um id de um cliente e mostre as informações deste cliente.\n",
    "\n",
    "3.4) Crie um filtro que ao digitar um id de um cliente mostre as seguintes informações:<br>\n",
    "- Para menores de 17 anos: Entrada Proibida\n",
    "- Para maiores de 17 anos: Entrada Liberada\n",
    "- Para o sexo Feminino: 50% de desconto\n",
    "- Para o sexo Masculino: 5% de desconto\n",
    "\n"
   ]
  },
  {
   "cell_type": "code",
   "execution_count": null,
   "metadata": {
    "colab": {},
    "colab_type": "code",
    "id": "VF26htDO4dp4"
   },
   "outputs": [],
   "source": []
  }
 ],
 "metadata": {
  "colab": {
   "name": "Untitled9.ipynb",
   "provenance": []
  },
  "kernelspec": {
   "display_name": "Python 3",
   "language": "python",
   "name": "python3"
  },
  "language_info": {
   "codemirror_mode": {
    "name": "ipython",
    "version": 3
   },
   "file_extension": ".py",
   "mimetype": "text/x-python",
   "name": "python",
   "nbconvert_exporter": "python",
   "pygments_lexer": "ipython3",
   "version": "3.7.3"
  }
 },
 "nbformat": 4,
 "nbformat_minor": 1
}
